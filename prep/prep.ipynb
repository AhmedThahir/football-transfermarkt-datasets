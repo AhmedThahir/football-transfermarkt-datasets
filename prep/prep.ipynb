{
 "cells": [
  {
   "cell_type": "code",
   "execution_count": 1,
   "metadata": {},
   "outputs": [
    {
     "output_type": "execute_result",
     "data": {
      "text/plain": [
       "0"
      ]
     },
     "metadata": {},
     "execution_count": 1
    }
   ],
   "source": [
    "# obtain raw assets\n",
    "import os\n",
    "os.system(\"dvc pull\")"
   ]
  },
  {
   "cell_type": "code",
   "execution_count": 2,
   "metadata": {},
   "outputs": [
    {
     "output_type": "stream",
     "name": "stderr",
     "text": [
      "Found raw asset 'players' without asset processor\n"
     ]
    }
   ],
   "source": [
    "# initialize asset runner\n",
    "\n",
    "import pandas as pd\n",
    "from asset_runner import AssetRunner\n",
    "\n",
    "runner = AssetRunner('../data/raw')"
   ]
  },
  {
   "cell_type": "code",
   "execution_count": 3,
   "metadata": {},
   "outputs": [
    {
     "output_type": "stream",
     "name": "stderr",
     "text": [
      "--- Processing 3 assets ---\n",
      "Name         File\n",
      "-----------  ----------------------------\n",
      "clubs        ../data/raw/clubs.json\n",
      "leagues      ../data/raw/leagues.json\n",
      "appearances  ../data/raw/appearances.json\n",
      "\n",
      "-> Processing clubs\n",
      "       club_id            name domestic_competition league_id\n",
      "count      241             241                  241       241\n",
      "unique     241             241                   14        14\n",
      "top         10  leicester-city                  TR1       TR1\n",
      "freq         1               1                   21        21\n",
      "All 1 validations passed!\n",
      "\n",
      "-> Processing leagues\n",
      "       league_id          name confederation\n",
      "count         14            14            14\n",
      "unique        14            13             1\n",
      "top         UKR1  premier-liga        europa\n",
      "freq           1             2            14\n",
      "All 1 validations passed!\n",
      "\n",
      "-> Processing appearances\n",
      "              goals       assists  yellow_cards     red_cards  minutes_played  \\\n",
      "count  93322.000000  93322.000000  93322.000000  93322.000000    93322.000000   \n",
      "mean       0.089175      0.068580      0.139045      0.003793       67.140353   \n",
      "std        0.316360      0.270158      0.356280      0.061473       30.590256   \n",
      "min        0.000000      0.000000      0.000000      0.000000        0.000000   \n",
      "25%        0.000000      0.000000      0.000000      0.000000       45.000000   \n",
      "50%        0.000000      0.000000      0.000000      0.000000       89.000000   \n",
      "75%        0.000000      0.000000      0.000000      0.000000       90.000000   \n",
      "max        5.000000      4.000000      2.000000      1.000000       90.000000   \n",
      "\n",
      "       home_club_id  away_club_id      player_id  player_club_id  \\\n",
      "count  93322.000000  93322.000000   93322.000000    93322.000000   \n",
      "mean    3962.046281   3903.778027  248831.915647     3867.161945   \n",
      "std     9643.550020   9516.673056  161587.599339     9449.557608   \n",
      "min        3.000000      3.000000    3333.000000        3.000000   \n",
      "25%      338.000000    347.000000  111961.000000      338.000000   \n",
      "50%      964.000000    969.000000  227805.000000      964.000000   \n",
      "75%     2727.000000   2727.000000  354362.000000     2727.000000   \n",
      "max    61825.000000  61825.000000  847759.000000    61825.000000   \n",
      "\n",
      "             game_id  appearance_id   season  \n",
      "count   93322.000000   93322.000000  93322.0  \n",
      "mean    50711.730632   60702.672875   2020.0  \n",
      "std     33985.265442   34109.895796      0.0  \n",
      "min         1.000000       1.000000   2020.0  \n",
      "25%     20058.000000   31176.250000   2020.0  \n",
      "50%     47350.000000   61188.500000   2020.0  \n",
      "75%     78772.000000   90172.750000   2020.0  \n",
      "max    117838.000000  118865.000000   2020.0  \n",
      "All 12 validations passed!\n",
      "\n"
     ]
    }
   ],
   "source": [
    "# process assets \n",
    "runner.process_assets()"
   ]
  },
  {
   "cell_type": "code",
   "execution_count": 4,
   "metadata": {},
   "outputs": [
    {
     "output_type": "stream",
     "name": "stdout",
     "text": [
      "Name         File\n-----------  ----------------------------\nclubs        ../data/raw/clubs.json\nleagues      ../data/raw/leagues.json\nappearances  ../data/raw/appearances.json\n"
     ]
    }
   ],
   "source": [
    "# list available assets\n",
    "print(runner.prettify_asset_processors())"
   ]
  },
  {
   "cell_type": "code",
   "execution_count": 5,
   "metadata": {},
   "outputs": [
    {
     "output_type": "execute_result",
     "data": {
      "text/plain": [
       "'clubs'"
      ]
     },
     "metadata": {},
     "execution_count": 5
    }
   ],
   "source": [
    "# get a reference to one asset\n",
    "asset = runner.assets[0]\n",
    "asset['name']"
   ]
  },
  {
   "cell_type": "code",
   "execution_count": 6,
   "metadata": {},
   "outputs": [
    {
     "output_type": "execute_result",
     "data": {
      "text/plain": [
       "       club_id            name domestic_competition league_id\n",
       "count      241             241                  241       241\n",
       "unique     241             241                   14        14\n",
       "top         10  leicester-city                  TR1       TR1\n",
       "freq         1               1                   21        21"
      ],
      "text/html": "<div>\n<style scoped>\n    .dataframe tbody tr th:only-of-type {\n        vertical-align: middle;\n    }\n\n    .dataframe tbody tr th {\n        vertical-align: top;\n    }\n\n    .dataframe thead th {\n        text-align: right;\n    }\n</style>\n<table border=\"1\" class=\"dataframe\">\n  <thead>\n    <tr style=\"text-align: right;\">\n      <th></th>\n      <th>club_id</th>\n      <th>name</th>\n      <th>domestic_competition</th>\n      <th>league_id</th>\n    </tr>\n  </thead>\n  <tbody>\n    <tr>\n      <th>count</th>\n      <td>241</td>\n      <td>241</td>\n      <td>241</td>\n      <td>241</td>\n    </tr>\n    <tr>\n      <th>unique</th>\n      <td>241</td>\n      <td>241</td>\n      <td>14</td>\n      <td>14</td>\n    </tr>\n    <tr>\n      <th>top</th>\n      <td>10</td>\n      <td>leicester-city</td>\n      <td>TR1</td>\n      <td>TR1</td>\n    </tr>\n    <tr>\n      <th>freq</th>\n      <td>1</td>\n      <td>1</td>\n      <td>21</td>\n      <td>21</td>\n    </tr>\n  </tbody>\n</table>\n</div>"
     },
     "metadata": {},
     "execution_count": 6
    }
   ],
   "source": [
    "# get a reference to the pandas dataframes containing raw and prepared data\n",
    "clubs = asset['processor']\n",
    "\n",
    "raw = clubs.raw_df\n",
    "prep = clubs.prep_df\n",
    "\n",
    "prep.describe()"
   ]
  },
  {
   "cell_type": "code",
   "execution_count": 7,
   "metadata": {},
   "outputs": [
    {
     "output_type": "execute_result",
     "data": {
      "text/plain": [
       "0       L1\n",
       "1       L1\n",
       "2       L1\n",
       "3       L1\n",
       "4       L1\n",
       "      ... \n",
       "236    TR1\n",
       "237    TR1\n",
       "238    TR1\n",
       "239    TR1\n",
       "240    TR1\n",
       "Name: 4, Length: 241, dtype: object"
      ]
     },
     "metadata": {},
     "execution_count": 7
    }
   ],
   "source": [
    "normalized = clubs.checkpoints['json_normalized']\n",
    "normalized['parent.href'].str.split('/', 5, True)[4]"
   ]
  },
  {
   "cell_type": "code",
   "execution_count": 8,
   "metadata": {},
   "outputs": [
    {
     "output_type": "stream",
     "name": "stdout",
     "text": [
      "{'name': 'clubs', 'processor': <assets.clubs.ClubsProcessor object at 0x7fd09d093fd0>}\n{'name': 'leagues', 'processor': <assets.leagues.LeaguesProcessor object at 0x7fd09af4bc10>}\n{'name': 'appearances', 'processor': <assets.appearances.AppearancesProcessor object at 0x7fd09d093fa0>}\n"
     ]
    }
   ],
   "source": [
    "# quickly get a reference to the underlying asset dataframe\n",
    "appearances = runner.get_asset_df('appearances')"
   ]
  },
  {
   "cell_type": "code",
   "execution_count": 9,
   "metadata": {},
   "outputs": [
    {
     "output_type": "execute_result",
     "data": {
      "text/plain": [
       "       competition round       date     player_position  goals  assists  \\\n",
       "0               L1     1 2020-09-20      Right Midfield      1        0   \n",
       "1               L1     1 2020-09-20  Defensive Midfield      0        0   \n",
       "2               L1     1 2020-09-20         Center-Back      0        0   \n",
       "3               L1     1 2020-09-20  Attacking Midfield      0        2   \n",
       "4               L1     1 2020-09-20         Center-Back      0        0   \n",
       "...            ...   ...        ...                 ...    ...      ...   \n",
       "118860         TR1    31 2021-03-21      Center Forward      0        0   \n",
       "118861         TR1    31 2021-03-21          Goalkeeper      0        0   \n",
       "118862         TR1    31 2021-03-21        Right Winger      0        0   \n",
       "118863         TR1    31 2021-03-21           Left-Back      0        0   \n",
       "118864         TR1    31 2021-03-21         Center-Back      0        0   \n",
       "\n",
       "        yellow_cards  red_cards  minutes_played  home_club_id  away_club_id  \\\n",
       "0                  0          0              90         23826            39   \n",
       "1                  0          0              13         23826            39   \n",
       "2                  0          0              90         23826            39   \n",
       "3                  0          0              69         23826            39   \n",
       "4                  0          0              90         23826            39   \n",
       "...              ...        ...             ...           ...           ...   \n",
       "118860             0          0              21           833          6890   \n",
       "118861             0          0              90           833          6890   \n",
       "118862             0          0              90           833          6890   \n",
       "118863             0          0              90           833          6890   \n",
       "118864             0          0              90           833          6890   \n",
       "\n",
       "        player_id          player_name  player_club_id  game_id  \\\n",
       "0          402008       amadou-haidara           23826        1   \n",
       "1          202591    benjamin-henrichs           23826        1   \n",
       "2          344695      dayot-upamecano           23826        1   \n",
       "3          293385            dani-olmo           23826        1   \n",
       "4           70243   marcel-halstenberg           23826        1   \n",
       "...           ...                  ...             ...      ...   \n",
       "118860     110708  fredrik-gulbrandsen            6890   117838   \n",
       "118861      51894           mert-gunok            6890   117838   \n",
       "118862     109217           edin-visca            6890   117838   \n",
       "118863      55605   hasan-ali-kaldirim            6890   117838   \n",
       "118864      45340   alexandru-epureanu            6890   117838   \n",
       "\n",
       "        appearance_id home_club_goals away_club_goals  season  \n",
       "0                   1               3               1    2020  \n",
       "1                   2               3               1    2020  \n",
       "2                   3               3               1    2020  \n",
       "3                   4               3               1    2020  \n",
       "4                   5               3               1    2020  \n",
       "...               ...             ...             ...     ...  \n",
       "118860         118861               0               0    2020  \n",
       "118861         118862               0               0    2020  \n",
       "118862         118863               0               0    2020  \n",
       "118863         118864               0               0    2020  \n",
       "118864         118865               0               0    2020  \n",
       "\n",
       "[93322 rows x 19 columns]"
      ],
      "text/html": "<div>\n<style scoped>\n    .dataframe tbody tr th:only-of-type {\n        vertical-align: middle;\n    }\n\n    .dataframe tbody tr th {\n        vertical-align: top;\n    }\n\n    .dataframe thead th {\n        text-align: right;\n    }\n</style>\n<table border=\"1\" class=\"dataframe\">\n  <thead>\n    <tr style=\"text-align: right;\">\n      <th></th>\n      <th>competition</th>\n      <th>round</th>\n      <th>date</th>\n      <th>player_position</th>\n      <th>goals</th>\n      <th>assists</th>\n      <th>yellow_cards</th>\n      <th>red_cards</th>\n      <th>minutes_played</th>\n      <th>home_club_id</th>\n      <th>away_club_id</th>\n      <th>player_id</th>\n      <th>player_name</th>\n      <th>player_club_id</th>\n      <th>game_id</th>\n      <th>appearance_id</th>\n      <th>home_club_goals</th>\n      <th>away_club_goals</th>\n      <th>season</th>\n    </tr>\n  </thead>\n  <tbody>\n    <tr>\n      <th>0</th>\n      <td>L1</td>\n      <td>1</td>\n      <td>2020-09-20</td>\n      <td>Right Midfield</td>\n      <td>1</td>\n      <td>0</td>\n      <td>0</td>\n      <td>0</td>\n      <td>90</td>\n      <td>23826</td>\n      <td>39</td>\n      <td>402008</td>\n      <td>amadou-haidara</td>\n      <td>23826</td>\n      <td>1</td>\n      <td>1</td>\n      <td>3</td>\n      <td>1</td>\n      <td>2020</td>\n    </tr>\n    <tr>\n      <th>1</th>\n      <td>L1</td>\n      <td>1</td>\n      <td>2020-09-20</td>\n      <td>Defensive Midfield</td>\n      <td>0</td>\n      <td>0</td>\n      <td>0</td>\n      <td>0</td>\n      <td>13</td>\n      <td>23826</td>\n      <td>39</td>\n      <td>202591</td>\n      <td>benjamin-henrichs</td>\n      <td>23826</td>\n      <td>1</td>\n      <td>2</td>\n      <td>3</td>\n      <td>1</td>\n      <td>2020</td>\n    </tr>\n    <tr>\n      <th>2</th>\n      <td>L1</td>\n      <td>1</td>\n      <td>2020-09-20</td>\n      <td>Center-Back</td>\n      <td>0</td>\n      <td>0</td>\n      <td>0</td>\n      <td>0</td>\n      <td>90</td>\n      <td>23826</td>\n      <td>39</td>\n      <td>344695</td>\n      <td>dayot-upamecano</td>\n      <td>23826</td>\n      <td>1</td>\n      <td>3</td>\n      <td>3</td>\n      <td>1</td>\n      <td>2020</td>\n    </tr>\n    <tr>\n      <th>3</th>\n      <td>L1</td>\n      <td>1</td>\n      <td>2020-09-20</td>\n      <td>Attacking Midfield</td>\n      <td>0</td>\n      <td>2</td>\n      <td>0</td>\n      <td>0</td>\n      <td>69</td>\n      <td>23826</td>\n      <td>39</td>\n      <td>293385</td>\n      <td>dani-olmo</td>\n      <td>23826</td>\n      <td>1</td>\n      <td>4</td>\n      <td>3</td>\n      <td>1</td>\n      <td>2020</td>\n    </tr>\n    <tr>\n      <th>4</th>\n      <td>L1</td>\n      <td>1</td>\n      <td>2020-09-20</td>\n      <td>Center-Back</td>\n      <td>0</td>\n      <td>0</td>\n      <td>0</td>\n      <td>0</td>\n      <td>90</td>\n      <td>23826</td>\n      <td>39</td>\n      <td>70243</td>\n      <td>marcel-halstenberg</td>\n      <td>23826</td>\n      <td>1</td>\n      <td>5</td>\n      <td>3</td>\n      <td>1</td>\n      <td>2020</td>\n    </tr>\n    <tr>\n      <th>...</th>\n      <td>...</td>\n      <td>...</td>\n      <td>...</td>\n      <td>...</td>\n      <td>...</td>\n      <td>...</td>\n      <td>...</td>\n      <td>...</td>\n      <td>...</td>\n      <td>...</td>\n      <td>...</td>\n      <td>...</td>\n      <td>...</td>\n      <td>...</td>\n      <td>...</td>\n      <td>...</td>\n      <td>...</td>\n      <td>...</td>\n      <td>...</td>\n    </tr>\n    <tr>\n      <th>118860</th>\n      <td>TR1</td>\n      <td>31</td>\n      <td>2021-03-21</td>\n      <td>Center Forward</td>\n      <td>0</td>\n      <td>0</td>\n      <td>0</td>\n      <td>0</td>\n      <td>21</td>\n      <td>833</td>\n      <td>6890</td>\n      <td>110708</td>\n      <td>fredrik-gulbrandsen</td>\n      <td>6890</td>\n      <td>117838</td>\n      <td>118861</td>\n      <td>0</td>\n      <td>0</td>\n      <td>2020</td>\n    </tr>\n    <tr>\n      <th>118861</th>\n      <td>TR1</td>\n      <td>31</td>\n      <td>2021-03-21</td>\n      <td>Goalkeeper</td>\n      <td>0</td>\n      <td>0</td>\n      <td>0</td>\n      <td>0</td>\n      <td>90</td>\n      <td>833</td>\n      <td>6890</td>\n      <td>51894</td>\n      <td>mert-gunok</td>\n      <td>6890</td>\n      <td>117838</td>\n      <td>118862</td>\n      <td>0</td>\n      <td>0</td>\n      <td>2020</td>\n    </tr>\n    <tr>\n      <th>118862</th>\n      <td>TR1</td>\n      <td>31</td>\n      <td>2021-03-21</td>\n      <td>Right Winger</td>\n      <td>0</td>\n      <td>0</td>\n      <td>0</td>\n      <td>0</td>\n      <td>90</td>\n      <td>833</td>\n      <td>6890</td>\n      <td>109217</td>\n      <td>edin-visca</td>\n      <td>6890</td>\n      <td>117838</td>\n      <td>118863</td>\n      <td>0</td>\n      <td>0</td>\n      <td>2020</td>\n    </tr>\n    <tr>\n      <th>118863</th>\n      <td>TR1</td>\n      <td>31</td>\n      <td>2021-03-21</td>\n      <td>Left-Back</td>\n      <td>0</td>\n      <td>0</td>\n      <td>0</td>\n      <td>0</td>\n      <td>90</td>\n      <td>833</td>\n      <td>6890</td>\n      <td>55605</td>\n      <td>hasan-ali-kaldirim</td>\n      <td>6890</td>\n      <td>117838</td>\n      <td>118864</td>\n      <td>0</td>\n      <td>0</td>\n      <td>2020</td>\n    </tr>\n    <tr>\n      <th>118864</th>\n      <td>TR1</td>\n      <td>31</td>\n      <td>2021-03-21</td>\n      <td>Center-Back</td>\n      <td>0</td>\n      <td>0</td>\n      <td>0</td>\n      <td>0</td>\n      <td>90</td>\n      <td>833</td>\n      <td>6890</td>\n      <td>45340</td>\n      <td>alexandru-epureanu</td>\n      <td>6890</td>\n      <td>117838</td>\n      <td>118865</td>\n      <td>0</td>\n      <td>0</td>\n      <td>2020</td>\n    </tr>\n  </tbody>\n</table>\n<p>93322 rows × 19 columns</p>\n</div>"
     },
     "metadata": {},
     "execution_count": 9
    }
   ],
   "source": [
    "appearances.groupby(['date']).count()"
   ]
  }
 ],
 "metadata": {
  "celltoolbar": "Tags",
  "kernelspec": {
   "display_name": "Python (player-scores)",
   "language": "python",
   "name": "player-scores"
  },
  "language_info": {
   "codemirror_mode": {
    "name": "ipython",
    "version": 3
   },
   "file_extension": ".py",
   "mimetype": "text/x-python",
   "name": "python",
   "nbconvert_exporter": "python",
   "pygments_lexer": "ipython3",
   "version": "3.8.5-final"
  }
 },
 "nbformat": 4,
 "nbformat_minor": 4
}