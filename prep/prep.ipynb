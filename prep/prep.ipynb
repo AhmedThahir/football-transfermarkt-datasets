{
 "metadata": {
  "language_info": {
   "codemirror_mode": {
    "name": "ipython",
    "version": 3
   },
   "file_extension": ".py",
   "mimetype": "text/x-python",
   "name": "python",
   "nbconvert_exporter": "python",
   "pygments_lexer": "ipython3",
   "version": "3.7.7-final"
  },
  "orig_nbformat": 2,
  "kernelspec": {
   "name": "python3",
   "display_name": "Python 3",
   "language": "python"
  }
 },
 "nbformat": 4,
 "nbformat_minor": 2,
 "cells": [
  {
   "source": [
    "# Data Prep\n",
    "\n",
    "Loads the output of a [transfermark-webscrapper](https://github.com/dcaribou/transfermarkt-scraper) run, and a applies a series of transformations to produce a file that is validated and more friendly for perfoming analyisis. Some of these transformations are\n",
    "\n",
    "* Creating handy ID columns\n",
    "* Renaming fileds to comply with naming convention\n",
    "* Parsing raw values into their own columns"
   ],
   "cell_type": "markdown",
   "metadata": {}
  },
  {
   "source": [
    "## Load\n",
    "Input to the data prep process is excepted to be the output of the [transfermark-webscrapper](https://github.com/dcaribou/transfermarkt-scraper). I. e., a file with JSON lines with one line per player containing all player appearances on a game up to the date the scraper was run."
   ],
   "cell_type": "markdown",
   "metadata": {}
  },
  {
   "source": [
    "import pandas as pd\n",
    "\n",
    "raw_file = '../data/tfmkt__2019-08-03__GB1_ES1.json'\n",
    "\n",
    "raw = pd.read_json(\n",
    "  raw_file,\n",
    "  lines=True,\n",
    "  convert_dates=True,\n",
    "  orient={'index','date'}\n",
    ")\n",
    "\n",
    "raw.head()"
   ],
   "cell_type": "code",
   "metadata": {},
   "execution_count": 1,
   "outputs": [
    {
     "output_type": "execute_result",
     "data": {
      "text/plain": [
       "  confederation domestic_competition stats_competition  \\\n",
       "0        europa                  GB1               GB1   \n",
       "1        europa                  GB1               FAC   \n",
       "2        europa                  GB1               CGB   \n",
       "3        europa                  GB1               GB1   \n",
       "4        europa                  GB1              GBFL   \n",
       "\n",
       "               current_team     player_name  \\\n",
       "0                fc-watford     adam-masina   \n",
       "1                fc-watford     adam-masina   \n",
       "2                fc-watford     adam-masina   \n",
       "3  brighton-amp-hove-albion  jayson-molumby   \n",
       "4  brighton-amp-hove-albion  jayson-molumby   \n",
       "\n",
       "                                               stats  \n",
       "0  [{'matchday': '5', 'date': '2018-09-15', 'home...  \n",
       "1  [{'matchday': 'Third Round', 'date': '2019-01-...  \n",
       "2  [{'matchday': 'Second Round', 'date': '2018-08...  \n",
       "3                                                 []  \n",
       "4                                                 []  "
      ],
      "text/html": "<div>\n<style scoped>\n    .dataframe tbody tr th:only-of-type {\n        vertical-align: middle;\n    }\n\n    .dataframe tbody tr th {\n        vertical-align: top;\n    }\n\n    .dataframe thead th {\n        text-align: right;\n    }\n</style>\n<table border=\"1\" class=\"dataframe\">\n  <thead>\n    <tr style=\"text-align: right;\">\n      <th></th>\n      <th>confederation</th>\n      <th>domestic_competition</th>\n      <th>stats_competition</th>\n      <th>current_team</th>\n      <th>player_name</th>\n      <th>stats</th>\n    </tr>\n  </thead>\n  <tbody>\n    <tr>\n      <th>0</th>\n      <td>europa</td>\n      <td>GB1</td>\n      <td>GB1</td>\n      <td>fc-watford</td>\n      <td>adam-masina</td>\n      <td>[{'matchday': '5', 'date': '2018-09-15', 'home...</td>\n    </tr>\n    <tr>\n      <th>1</th>\n      <td>europa</td>\n      <td>GB1</td>\n      <td>FAC</td>\n      <td>fc-watford</td>\n      <td>adam-masina</td>\n      <td>[{'matchday': 'Third Round', 'date': '2019-01-...</td>\n    </tr>\n    <tr>\n      <th>2</th>\n      <td>europa</td>\n      <td>GB1</td>\n      <td>CGB</td>\n      <td>fc-watford</td>\n      <td>adam-masina</td>\n      <td>[{'matchday': 'Second Round', 'date': '2018-08...</td>\n    </tr>\n    <tr>\n      <th>3</th>\n      <td>europa</td>\n      <td>GB1</td>\n      <td>GB1</td>\n      <td>brighton-amp-hove-albion</td>\n      <td>jayson-molumby</td>\n      <td>[]</td>\n    </tr>\n    <tr>\n      <th>4</th>\n      <td>europa</td>\n      <td>GB1</td>\n      <td>GBFL</td>\n      <td>brighton-amp-hove-albion</td>\n      <td>jayson-molumby</td>\n      <td>[]</td>\n    </tr>\n  </tbody>\n</table>\n</div>"
     },
     "metadata": {},
     "execution_count": 1
    }
   ]
  },
  {
   "source": [
    "## Prep\n",
    "The prep phase applies a series of transformations on the raw data frame that we loaded above"
   ],
   "cell_type": "markdown",
   "metadata": {}
  },
  {
   "cell_type": "code",
   "execution_count": 2,
   "metadata": {},
   "outputs": [],
   "source": [
    "from prep_lib import *"
   ]
  },
  {
   "source": [
    "### Flatten\n",
    "Firstly, we need to explode the data frame to have one ne row per player appearance, rather than one row per player"
   ],
   "cell_type": "markdown",
   "metadata": {}
  },
  {
   "cell_type": "code",
   "execution_count": 3,
   "metadata": {},
   "outputs": [
    {
     "output_type": "execute_result",
     "data": {
      "text/plain": [
       "  matchday        date                home_team          away_team result pos  \\\n",
       "0        5  2018-09-15               fc-watford  manchester-united    1:2  LB   \n",
       "1        9  2018-10-20  wolverhampton-wanderers         fc-watford    0:2  LB   \n",
       "2       10  2018-10-27               fc-watford  huddersfield-town    3:0  LB   \n",
       "3       13  2018-11-24               fc-watford       fc-liverpool    0:3  LB   \n",
       "4       20  2018-12-29               fc-watford   newcastle-united    1:1  LB   \n",
       "\n",
       "  goals assists own_goals yellow_cards  ... red_cards substituted_on  \\\n",
       "0     0       0         0            0  ...         0             84   \n",
       "1     0       0         0            0  ...         0              0   \n",
       "2     0       1         0          67'  ...         0              0   \n",
       "3     0       0         0            0  ...         0              0   \n",
       "4     0       0         0          44'  ...         0              0   \n",
       "\n",
       "   substituted_off  minutes_played  transfermarkt_player_rating confederation  \\\n",
       "0                0               6                          NaN        europa   \n",
       "1                0              90                          NaN        europa   \n",
       "2                0              90                          NaN        europa   \n",
       "3                0              90                          NaN        europa   \n",
       "4               78              78                          NaN        europa   \n",
       "\n",
       "  domestic_competition stats_competition current_team  player_name  \n",
       "0                  GB1               GB1   fc-watford  adam-masina  \n",
       "1                  GB1               GB1   fc-watford  adam-masina  \n",
       "2                  GB1               GB1   fc-watford  adam-masina  \n",
       "3                  GB1               GB1   fc-watford  adam-masina  \n",
       "4                  GB1               GB1   fc-watford  adam-masina  \n",
       "\n",
       "[5 rows x 21 columns]"
      ],
      "text/html": "<div>\n<style scoped>\n    .dataframe tbody tr th:only-of-type {\n        vertical-align: middle;\n    }\n\n    .dataframe tbody tr th {\n        vertical-align: top;\n    }\n\n    .dataframe thead th {\n        text-align: right;\n    }\n</style>\n<table border=\"1\" class=\"dataframe\">\n  <thead>\n    <tr style=\"text-align: right;\">\n      <th></th>\n      <th>matchday</th>\n      <th>date</th>\n      <th>home_team</th>\n      <th>away_team</th>\n      <th>result</th>\n      <th>pos</th>\n      <th>goals</th>\n      <th>assists</th>\n      <th>own_goals</th>\n      <th>yellow_cards</th>\n      <th>...</th>\n      <th>red_cards</th>\n      <th>substituted_on</th>\n      <th>substituted_off</th>\n      <th>minutes_played</th>\n      <th>transfermarkt_player_rating</th>\n      <th>confederation</th>\n      <th>domestic_competition</th>\n      <th>stats_competition</th>\n      <th>current_team</th>\n      <th>player_name</th>\n    </tr>\n  </thead>\n  <tbody>\n    <tr>\n      <th>0</th>\n      <td>5</td>\n      <td>2018-09-15</td>\n      <td>fc-watford</td>\n      <td>manchester-united</td>\n      <td>1:2</td>\n      <td>LB</td>\n      <td>0</td>\n      <td>0</td>\n      <td>0</td>\n      <td>0</td>\n      <td>...</td>\n      <td>0</td>\n      <td>84</td>\n      <td>0</td>\n      <td>6</td>\n      <td>NaN</td>\n      <td>europa</td>\n      <td>GB1</td>\n      <td>GB1</td>\n      <td>fc-watford</td>\n      <td>adam-masina</td>\n    </tr>\n    <tr>\n      <th>1</th>\n      <td>9</td>\n      <td>2018-10-20</td>\n      <td>wolverhampton-wanderers</td>\n      <td>fc-watford</td>\n      <td>0:2</td>\n      <td>LB</td>\n      <td>0</td>\n      <td>0</td>\n      <td>0</td>\n      <td>0</td>\n      <td>...</td>\n      <td>0</td>\n      <td>0</td>\n      <td>0</td>\n      <td>90</td>\n      <td>NaN</td>\n      <td>europa</td>\n      <td>GB1</td>\n      <td>GB1</td>\n      <td>fc-watford</td>\n      <td>adam-masina</td>\n    </tr>\n    <tr>\n      <th>2</th>\n      <td>10</td>\n      <td>2018-10-27</td>\n      <td>fc-watford</td>\n      <td>huddersfield-town</td>\n      <td>3:0</td>\n      <td>LB</td>\n      <td>0</td>\n      <td>1</td>\n      <td>0</td>\n      <td>67'</td>\n      <td>...</td>\n      <td>0</td>\n      <td>0</td>\n      <td>0</td>\n      <td>90</td>\n      <td>NaN</td>\n      <td>europa</td>\n      <td>GB1</td>\n      <td>GB1</td>\n      <td>fc-watford</td>\n      <td>adam-masina</td>\n    </tr>\n    <tr>\n      <th>3</th>\n      <td>13</td>\n      <td>2018-11-24</td>\n      <td>fc-watford</td>\n      <td>fc-liverpool</td>\n      <td>0:3</td>\n      <td>LB</td>\n      <td>0</td>\n      <td>0</td>\n      <td>0</td>\n      <td>0</td>\n      <td>...</td>\n      <td>0</td>\n      <td>0</td>\n      <td>0</td>\n      <td>90</td>\n      <td>NaN</td>\n      <td>europa</td>\n      <td>GB1</td>\n      <td>GB1</td>\n      <td>fc-watford</td>\n      <td>adam-masina</td>\n    </tr>\n    <tr>\n      <th>4</th>\n      <td>20</td>\n      <td>2018-12-29</td>\n      <td>fc-watford</td>\n      <td>newcastle-united</td>\n      <td>1:1</td>\n      <td>LB</td>\n      <td>0</td>\n      <td>0</td>\n      <td>0</td>\n      <td>44'</td>\n      <td>...</td>\n      <td>0</td>\n      <td>0</td>\n      <td>78</td>\n      <td>78</td>\n      <td>NaN</td>\n      <td>europa</td>\n      <td>GB1</td>\n      <td>GB1</td>\n      <td>fc-watford</td>\n      <td>adam-masina</td>\n    </tr>\n  </tbody>\n</table>\n<p>5 rows × 21 columns</p>\n</div>"
     },
     "metadata": {},
     "execution_count": 3
    }
   ],
   "source": [
    "raw_flat = flatten(raw, ['stats'])\n",
    "raw_flat.head()"
   ]
  },
  {
   "source": [
    "### Rename\n",
    "Modify the names of the input columns to make them consisent with a naming convention"
   ],
   "cell_type": "markdown",
   "metadata": {}
  },
  {
   "cell_type": "code",
   "execution_count": 4,
   "metadata": {},
   "outputs": [],
   "source": [
    "mappings = {\n",
    "    'matchday': 'round',\n",
    "    'home_team': 'home_club_name',\n",
    "    'away_team': 'away_club_name',\n",
    "    'current_team': 'player_club_name',\n",
    "    'pos': 'player_position',\n",
    "    'confederation': 'club_confederation',\n",
    "    'domestic_competition': 'club_domestic_competition',\n",
    "    'stats_competition': 'competition',\n",
    "    'transfermarkt_player_rating': 'player_transfermarkt_rating'\n",
    "}\n",
    "\n",
    "with_renamed_columns = renames(raw_flat, mappings)"
   ]
  },
  {
   "source": [
    "### Update\n",
    "- [x] Convert `goals`, `assists`, `own_goals` and `date` to the appropriate types\n",
    "- [x] Revamp `yellow_cards` and `red_cards`. `second_yellows` column is not needed\n",
    "- [ ] Club name prettifying. _FC Watford_ instead of _fc-watford_\n",
    "- [ ] Player name prettifying. _Adam Masina_ instead of _adam-masina_\n",
    "- [ ] Use longer names for `position` instead of the chryptic 'LB', etc. (use 'filter by position' [here](https://www.transfermarkt.co.uk/diogo-jota/leistungsdatendetails/spieler/340950/saison/2020/verein/0/liga/0/wettbewerb/GB1/pos/0/trainer_id/0/plus/1) to get the mappings)"
   ],
   "cell_type": "markdown",
   "metadata": {}
  },
  {
   "cell_type": "code",
   "execution_count": 5,
   "metadata": {},
   "outputs": [],
   "source": [
    "with_improved_columns = improve_columns(with_renamed_columns)"
   ]
  },
  {
   "source": [
    "### Create\n",
    "- [x] Add surrogate keys `game_id`, `player_id`, `appearance_id`, `home_club_id`, `away_club_id`\n",
    "- [x] Split `result` into `home_club_goals` and `away_club_goals`\n",
    "- [x] Approximate appearance `season`"
   ],
   "cell_type": "markdown",
   "metadata": {}
  },
  {
   "cell_type": "code",
   "execution_count": 6,
   "metadata": {},
   "outputs": [],
   "source": [
    "\n",
    "with_new_columns = add_new_columns(with_improved_columns)"
   ]
  },
  {
   "source": [
    "### Filter\n",
    "* Only season 2018 is complete on the current file, so we remove the rest\n",
    "  - [ ] Rather than hardcoding the filter, the whole script should be parameterized for a specific season\n",
    "* To reduce the scope of this version of the data prep scritp, select only appearances from domestic competitions\n"
   ],
   "cell_type": "markdown",
   "metadata": {}
  },
  {
   "cell_type": "code",
   "execution_count": 7,
   "metadata": {},
   "outputs": [],
   "source": [
    "with_filtered_appearances = filter_appearances(with_new_columns)"
   ]
  },
  {
   "source": [
    "## Validate\n",
    "Validate that the output dataframe contains consistent data. Two types of checks are performed.\n",
    "\n",
    "### Value checks\n",
    "- [x] Fields `red_cards`, `yellow_cards`, `own_goals`, `assists`, `goals` and `minutes_played` contain values within an expected range\n",
    "- [x] Rows are unique on `player_id` + `date`\n",
    "- [ ] `position` field is either one of the long form player positions from Transfermarkt\n",
    "\n",
    "### Completeness checks\n",
    "- [x] Number of teams per domestic competition must be exactly 20\n",
    "- [ ] Each club must play 38 games per season on the domestic competition\n",
    "- [ ] On each match, both clubs should have at least 11 appearances\n",
    "- [ ] Similarly, each club must have at least 11 appearances per game\n"
   ],
   "cell_type": "markdown",
   "metadata": {}
  },
  {
   "cell_type": "code",
   "execution_count": 8,
   "metadata": {},
   "outputs": [
    {
     "output_type": "stream",
     "name": "stdout",
     "text": [
      "Validation clubs_per_domestic_competition did not pass\nValidation games_per_season_per_club did not pass\nValidation appearances_per_match did not pass\nValidation appearances_per_club_per_game did not pass\n"
     ]
    }
   ],
   "source": [
    "validate(with_filtered_appearances)"
   ]
  },
  {
   "source": [
    "## Save"
   ],
   "cell_type": "markdown",
   "metadata": {}
  },
  {
   "cell_type": "code",
   "execution_count": 9,
   "metadata": {},
   "outputs": [],
   "source": [
    "with_filtered_appearances.to_csv(\n",
    "  '../data/tfmkt__2019-08-03__GB1_ES1__prep.csv',\n",
    "  index=False\n",
    ")"
   ]
  }
 ]
}