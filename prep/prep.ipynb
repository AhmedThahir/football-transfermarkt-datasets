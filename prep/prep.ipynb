{
 "metadata": {
  "language_info": {
   "codemirror_mode": {
    "name": "ipython",
    "version": 3
   },
   "file_extension": ".py",
   "mimetype": "text/x-python",
   "name": "python",
   "nbconvert_exporter": "python",
   "pygments_lexer": "ipython3",
   "version": "3.7.7-final"
  },
  "orig_nbformat": 2,
  "kernelspec": {
   "name": "python3",
   "display_name": "Python 3",
   "language": "python"
  }
 },
 "nbformat": 4,
 "nbformat_minor": 2,
 "cells": [
  {
   "source": [
    "# Data Prep\n",
    "\n",
    "Loads the output of a [transfermark-webscrapper](https://github.com/dcaribou/transfermarkt-scraper) run, and a applies a series of transformations to produce a file that is validated and more friendly for perfoming analyisis. Some of these transformations are\n",
    "\n",
    "* Creating handy ID columns\n",
    "* Renaming fileds to comply with naming convention\n",
    "* Parsing raw values into their own columns"
   ],
   "cell_type": "markdown",
   "metadata": {}
  },
  {
   "source": [
    "## Load\n",
    "Input to the data prep process is excepted to be the output of the [transfermark-webscrapper](https://github.com/dcaribou/transfermarkt-scraper). I. e., a file with JSON lines with one line per player."
   ],
   "cell_type": "markdown",
   "metadata": {}
  },
  {
   "source": [
    "import pandas as pd\n",
    "\n",
    "raw_file = '../data/tfmkt__2019-08-03__GB1_ES1.json'\n",
    "\n",
    "raw = pd.read_json(\n",
    "  raw_file,\n",
    "  lines=True,\n",
    "  convert_dates=True,\n",
    "  orient={'index','date'}\n",
    ")"
   ],
   "cell_type": "code",
   "metadata": {},
   "execution_count": 1,
   "outputs": []
  },
  {
   "source": [
    "## Prep\n",
    "The prep phase applies a series of transformations on the raw data frame that we loaded above"
   ],
   "cell_type": "markdown",
   "metadata": {}
  },
  {
   "cell_type": "code",
   "execution_count": 2,
   "metadata": {},
   "outputs": [],
   "source": [
    "from prep_lib import *"
   ]
  },
  {
   "source": [
    "### Flatten\n",
    "Firstly, we need to explode the data frame to have one ne row per player appearance, rather than one row per player"
   ],
   "cell_type": "markdown",
   "metadata": {}
  },
  {
   "cell_type": "code",
   "execution_count": 3,
   "metadata": {},
   "outputs": [],
   "source": [
    "raw_flat = flatten(raw, ['stats'])"
   ]
  },
  {
   "source": [
    "### Rename\n",
    "Modify the names of the input columns to make them consisent with a naming convention"
   ],
   "cell_type": "markdown",
   "metadata": {}
  },
  {
   "cell_type": "code",
   "execution_count": 4,
   "metadata": {},
   "outputs": [],
   "source": [
    "with_renamed_columns = renames(raw_flat)"
   ]
  },
  {
   "source": [
    "### Update\n",
    "- [x] Convert `goals`, `assists`, `own_goals` and`date` to the approproate types\n",
    "- [x] yellow_cards / red_cards (no need for second_yellows)\n",
    "- [ ] club name formatting: fc-watford -> FC Watford\n",
    "- [ ] player name formatting: adam-masina -> Adam Masina\n",
    "- [ ] Position: use longer names instead of the chryptic 'LB', etc (use 'filter by position' [here](https://www.transfermarkt.co.uk/diogo-jota/leistungsdatendetails/spieler/340950/saison/2020/verein/0/liga/0/wettbewerb/GB1/pos/0/trainer_id/0/plus/1) to get the mappings)"
   ],
   "cell_type": "markdown",
   "metadata": {}
  },
  {
   "cell_type": "code",
   "execution_count": 5,
   "metadata": {},
   "outputs": [],
   "source": [
    "with_improved_columns = improve_columns(with_renamed_columns)"
   ]
  },
  {
   "source": [
    "### Create\n",
    "- [x] Add surrogate keys `game_id`, `player_id`, `appearance_id`, `home_club_id`, `away_club_id`\n",
    "- [x] Split `result` into `home_club_goals` and `away_club_goals`\n",
    "- [x] Approximate appearance `season`"
   ],
   "cell_type": "markdown",
   "metadata": {}
  },
  {
   "cell_type": "code",
   "execution_count": 6,
   "metadata": {},
   "outputs": [],
   "source": [
    "\n",
    "with_new_columns = add_new_columns(with_improved_columns)"
   ]
  },
  {
   "source": [
    "### Filter\n",
    "* Only season 2018 is complete on the current file, so we remove the rest\n",
    "  - [ ] Rather than hardcoding the filter, the whole script should be parameterized for a specific season\n",
    "* To reduce the scope of this version of the data prep scritp, select only appearances from domestic competitions\n"
   ],
   "cell_type": "markdown",
   "metadata": {}
  },
  {
   "cell_type": "code",
   "execution_count": 7,
   "metadata": {},
   "outputs": [],
   "source": [
    "with_filtered_appearances = filter_appearances(with_new_columns)"
   ]
  },
  {
   "source": [
    "## Validate\n",
    "Validate that the output dataframe contains consistent data. Two types of checks are performed.\n",
    "\n",
    "### Value checks\n",
    "- [x] Fields `red_cards`, `yellow_cards`, `own_goals`, `assists`, `goals` and `minutes_played` contain values within an expected range\n",
    "- [x] Rows are unique on `player_id` + `date`\n",
    "- [ ] `position` field is either one of the long form player positions from Transfermarkt\n",
    "\n",
    "### Completeness checks\n",
    "- [x] Number of teams per domestic competition must be exactly 20\n",
    "- [ ] Each club must play 38 games per season on the domestic competition\n",
    "- [ ] On each match, both clubs should have at least 11 appearances\n",
    "- [ ] Similarly, each club must have at least 11 appearances per game\n"
   ],
   "cell_type": "markdown",
   "metadata": {}
  },
  {
   "cell_type": "code",
   "execution_count": 8,
   "metadata": {},
   "outputs": [
    {
     "output_type": "error",
     "ename": "AssertionError",
     "evalue": "",
     "traceback": [
      "\u001b[0;31m---------------------------------------------------------------------------\u001b[0m",
      "\u001b[0;31mAssertionError\u001b[0m                            Traceback (most recent call last)",
      "\u001b[0;32m<ipython-input-8-2d3a56a17f85>\u001b[0m in \u001b[0;36m<module>\u001b[0;34m\u001b[0m\n\u001b[1;32m      2\u001b[0m \u001b[0mwith_filtered_appearances\u001b[0m\u001b[0;34m[\u001b[0m\u001b[0;34m~\u001b[0m\u001b[0mwith_filtered_appearances\u001b[0m\u001b[0;34m[\u001b[0m\u001b[0;34m'assists'\u001b[0m\u001b[0;34m]\u001b[0m\u001b[0;34m.\u001b[0m\u001b[0mbetween\u001b[0m\u001b[0;34m(\u001b[0m\u001b[0;36m0\u001b[0m\u001b[0;34m,\u001b[0m \u001b[0;36m4\u001b[0m\u001b[0;34m)\u001b[0m\u001b[0;34m]\u001b[0m\u001b[0;34m\u001b[0m\u001b[0;34m\u001b[0m\u001b[0m\n\u001b[1;32m      3\u001b[0m \u001b[0mlen\u001b[0m\u001b[0;34m(\u001b[0m\u001b[0mwith_filtered_appearances\u001b[0m\u001b[0;34m[\u001b[0m\u001b[0;34m~\u001b[0m\u001b[0mwith_filtered_appearances\u001b[0m\u001b[0;34m[\u001b[0m\u001b[0;34m'assists'\u001b[0m\u001b[0;34m]\u001b[0m\u001b[0;34m.\u001b[0m\u001b[0mbetween\u001b[0m\u001b[0;34m(\u001b[0m\u001b[0;36m0\u001b[0m\u001b[0;34m,\u001b[0m \u001b[0;36m4\u001b[0m\u001b[0;34m)\u001b[0m\u001b[0;34m]\u001b[0m\u001b[0;34m)\u001b[0m\u001b[0;34m\u001b[0m\u001b[0;34m\u001b[0m\u001b[0m\n\u001b[0;32m----> 4\u001b[0;31m \u001b[0mvalidate\u001b[0m\u001b[0;34m(\u001b[0m\u001b[0mwith_filtered_appearances\u001b[0m\u001b[0;34m)\u001b[0m\u001b[0;34m\u001b[0m\u001b[0;34m\u001b[0m\u001b[0m\n\u001b[0m\u001b[1;32m      5\u001b[0m \u001b[0;34m\u001b[0m\u001b[0m\n\u001b[1;32m      6\u001b[0m \u001b[0;34m\u001b[0m\u001b[0m\n",
      "\u001b[0;32m~/player-scores/prep/prep_lib.py\u001b[0m in \u001b[0;36mvalidate\u001b[0;34m(df)\u001b[0m\n\u001b[1;32m    134\u001b[0m     \u001b[0mdf\u001b[0m\u001b[0;34m.\u001b[0m\u001b[0mgroupby\u001b[0m\u001b[0;34m(\u001b[0m\u001b[0;34m[\u001b[0m\u001b[0;34m'season'\u001b[0m\u001b[0;34m,\u001b[0m \u001b[0;34m'club_domestic_competition'\u001b[0m\u001b[0;34m]\u001b[0m\u001b[0;34m)\u001b[0m\u001b[0;34m[\u001b[0m\u001b[0;34m'player_club_name'\u001b[0m\u001b[0;34m]\u001b[0m\u001b[0;34m.\u001b[0m\u001b[0mnunique\u001b[0m\u001b[0;34m(\u001b[0m\u001b[0;34m)\u001b[0m\u001b[0;34m\u001b[0m\u001b[0;34m\u001b[0m\u001b[0m\n\u001b[1;32m    135\u001b[0m   )\n\u001b[0;32m--> 136\u001b[0;31m   \u001b[0;32massert\u001b[0m \u001b[0;34m(\u001b[0m\u001b[0mclubs_per_domestic_competition\u001b[0m \u001b[0;34m!=\u001b[0m \u001b[0;36m20\u001b[0m\u001b[0;34m)\u001b[0m\u001b[0;34m.\u001b[0m\u001b[0msum\u001b[0m\u001b[0;34m(\u001b[0m\u001b[0;34m)\u001b[0m \u001b[0;34m==\u001b[0m \u001b[0;36m0\u001b[0m\u001b[0;34m\u001b[0m\u001b[0;34m\u001b[0m\u001b[0m\n\u001b[0m\u001b[1;32m    137\u001b[0m \u001b[0;34m\u001b[0m\u001b[0m\n\u001b[1;32m    138\u001b[0m   \u001b[0;31m# each club must play 38 games per season on the domestic competition\u001b[0m\u001b[0;34m\u001b[0m\u001b[0;34m\u001b[0m\u001b[0;34m\u001b[0m\u001b[0m\n",
      "\u001b[0;31mAssertionError\u001b[0m: "
     ]
    }
   ],
   "source": [
    "validate(with_filtered_appearances)"
   ]
  },
  {
   "source": [
    "## Save"
   ],
   "cell_type": "code",
   "metadata": {},
   "execution_count": null,
   "outputs": []
  },
  {
   "cell_type": "code",
   "execution_count": null,
   "metadata": {},
   "outputs": [],
   "source": [
    "with_filtered_appearances.to_csv(\n",
    "  'data/tfmkt__2019-08-03__GB1_ES1__prep.csv',\n",
    "  index=False\n",
    ")"
   ]
  }
 ]
}