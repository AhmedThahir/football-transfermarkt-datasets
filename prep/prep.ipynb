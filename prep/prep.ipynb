{
 "cells": [
  {
   "cell_type": "markdown",
   "metadata": {},
   "source": [
    "# Data Prep\n",
    "\n",
    "Loads the output of a [transfermark-webscrapper](https://github.com/dcaribou/transfermarkt-scraper) run, and a applies a series of transformations to produce a file that is validated and more friendly for perfoming analyisis. Some of these transformations are\n",
    "\n",
    "* Creating handy ID columns\n",
    "* Renaming fileds to comply with naming convention\n",
    "* Parsing raw values into their own columns"
   ]
  },
  {
   "cell_type": "markdown",
   "metadata": {},
   "source": [
    "## Load\n",
    "Input to the data prep process is excepted to be the output of the [transfermark-webscrapper](https://github.com/dcaribou/transfermarkt-scraper). I. e., a file with JSON lines with one line per player containing all player appearances on a game up to the date the scraper was run.\n",
    "\n",
    "Later on we will use [papermill](https://papermill.readthedocs.io/en/latest/usage-parameterize.html) to run the notebook from a dvc pipeline. The next cells define [notebook-wide parameters](https://papermill.readthedocs.io/en/latest/usage-parameterize.html) than can be overridded via papermill arguments."
   ]
  },
  {
   "cell_type": "code",
   "execution_count": 1,
   "metadata": {
    "tags": [
     "parameters"
    ]
   },
   "outputs": [],
   "source": [
    "raw_file = 'data/raw/appearances.json'\n",
    "prep_file = 'data/prep/appearances.csv'"
   ]
  },
  {
   "cell_type": "code",
   "execution_count": 2,
   "metadata": {},
   "outputs": [],
   "source": [
    "raw_file = f\"../{raw_file}\"\n",
    "prep_file = f\"../{prep_file}\""
   ]
  },
  {
   "cell_type": "code",
   "execution_count": 3,
   "metadata": {},
   "outputs": [
    {
     "data": {
      "text/html": [
       "<div>\n",
       "<style scoped>\n",
       "    .dataframe tbody tr th:only-of-type {\n",
       "        vertical-align: middle;\n",
       "    }\n",
       "\n",
       "    .dataframe tbody tr th {\n",
       "        vertical-align: top;\n",
       "    }\n",
       "\n",
       "    .dataframe thead th {\n",
       "        text-align: right;\n",
       "    }\n",
       "</style>\n",
       "<table border=\"1\" class=\"dataframe\">\n",
       "  <thead>\n",
       "    <tr style=\"text-align: right;\">\n",
       "      <th></th>\n",
       "      <th>confederation</th>\n",
       "      <th>domestic_competition</th>\n",
       "      <th>stats_competition</th>\n",
       "      <th>current_team</th>\n",
       "      <th>player_name</th>\n",
       "      <th>stats</th>\n",
       "    </tr>\n",
       "  </thead>\n",
       "  <tbody>\n",
       "    <tr>\n",
       "      <th>0</th>\n",
       "      <td>europa</td>\n",
       "      <td>L1</td>\n",
       "      <td>AJ2</td>\n",
       "      <td>1-fc-koln</td>\n",
       "      <td>jens-castrop</td>\n",
       "      <td>[{'matchday': '1', 'date': '2020-09-20', 'home...</td>\n",
       "    </tr>\n",
       "    <tr>\n",
       "      <th>1</th>\n",
       "      <td>europa</td>\n",
       "      <td>L1</td>\n",
       "      <td>DFBJ</td>\n",
       "      <td>1-fc-koln</td>\n",
       "      <td>jens-castrop</td>\n",
       "      <td>[{'matchday': 'First Round', 'date': '2020-10-...</td>\n",
       "    </tr>\n",
       "    <tr>\n",
       "      <th>2</th>\n",
       "      <td>europa</td>\n",
       "      <td>L1</td>\n",
       "      <td>L1</td>\n",
       "      <td>1-fc-koln</td>\n",
       "      <td>kingsley-ehizibue</td>\n",
       "      <td>[{'matchday': '1', 'date': '2020-09-19', 'home...</td>\n",
       "    </tr>\n",
       "    <tr>\n",
       "      <th>3</th>\n",
       "      <td>europa</td>\n",
       "      <td>L1</td>\n",
       "      <td>DFB</td>\n",
       "      <td>1-fc-koln</td>\n",
       "      <td>kingsley-ehizibue</td>\n",
       "      <td>[{'matchday': 'First Round', 'date': '2020-09-...</td>\n",
       "    </tr>\n",
       "    <tr>\n",
       "      <th>4</th>\n",
       "      <td>europa</td>\n",
       "      <td>L1</td>\n",
       "      <td>L1</td>\n",
       "      <td>1-fc-koln</td>\n",
       "      <td>dominick-drexler</td>\n",
       "      <td>[{'matchday': '1', 'date': '2020-09-19', 'home...</td>\n",
       "    </tr>\n",
       "  </tbody>\n",
       "</table>\n",
       "</div>"
      ],
      "text/plain": [
       "  confederation domestic_competition stats_competition current_team  \\\n",
       "0        europa                   L1               AJ2    1-fc-koln   \n",
       "1        europa                   L1              DFBJ    1-fc-koln   \n",
       "2        europa                   L1                L1    1-fc-koln   \n",
       "3        europa                   L1               DFB    1-fc-koln   \n",
       "4        europa                   L1                L1    1-fc-koln   \n",
       "\n",
       "         player_name                                              stats  \n",
       "0       jens-castrop  [{'matchday': '1', 'date': '2020-09-20', 'home...  \n",
       "1       jens-castrop  [{'matchday': 'First Round', 'date': '2020-10-...  \n",
       "2  kingsley-ehizibue  [{'matchday': '1', 'date': '2020-09-19', 'home...  \n",
       "3  kingsley-ehizibue  [{'matchday': 'First Round', 'date': '2020-09-...  \n",
       "4   dominick-drexler  [{'matchday': '1', 'date': '2020-09-19', 'home...  "
      ]
     },
     "execution_count": 3,
     "metadata": {},
     "output_type": "execute_result"
    }
   ],
   "source": [
    "import pandas as pd\n",
    "\n",
    "raw = pd.read_json(\n",
    "  raw_file,\n",
    "  lines=True,\n",
    "  convert_dates=True,\n",
    "  orient={'index','date'}\n",
    ")\n",
    "\n",
    "raw.head()"
   ]
  },
  {
   "cell_type": "markdown",
   "metadata": {},
   "source": [
    "## Prep\n",
    "The prep phase applies a series of transformations on the raw data frame that we loaded above"
   ]
  },
  {
   "cell_type": "code",
   "execution_count": 4,
   "metadata": {},
   "outputs": [],
   "source": [
    "from prep_lib import *"
   ]
  },
  {
   "cell_type": "markdown",
   "metadata": {},
   "source": [
    "### Flatten\n",
    "Firstly, we need to explode the data frame to have one row per player appearance, rather than one row per player"
   ]
  },
  {
   "cell_type": "code",
   "execution_count": 5,
   "metadata": {},
   "outputs": [
    {
     "data": {
      "text/html": [
       "<div>\n",
       "<style scoped>\n",
       "    .dataframe tbody tr th:only-of-type {\n",
       "        vertical-align: middle;\n",
       "    }\n",
       "\n",
       "    .dataframe tbody tr th {\n",
       "        vertical-align: top;\n",
       "    }\n",
       "\n",
       "    .dataframe thead th {\n",
       "        text-align: right;\n",
       "    }\n",
       "</style>\n",
       "<table border=\"1\" class=\"dataframe\">\n",
       "  <thead>\n",
       "    <tr style=\"text-align: right;\">\n",
       "      <th></th>\n",
       "      <th>matchday</th>\n",
       "      <th>date</th>\n",
       "      <th>home_team</th>\n",
       "      <th>away_team</th>\n",
       "      <th>result</th>\n",
       "      <th>pos</th>\n",
       "      <th>goals</th>\n",
       "      <th>assists</th>\n",
       "      <th>own_goals</th>\n",
       "      <th>yellow_cards</th>\n",
       "      <th>...</th>\n",
       "      <th>red_cards</th>\n",
       "      <th>substitutions_on</th>\n",
       "      <th>substitutions_off</th>\n",
       "      <th>minutes_played</th>\n",
       "      <th>transfermarkt_player_rating</th>\n",
       "      <th>confederation</th>\n",
       "      <th>domestic_competition</th>\n",
       "      <th>stats_competition</th>\n",
       "      <th>current_team</th>\n",
       "      <th>player_name</th>\n",
       "    </tr>\n",
       "  </thead>\n",
       "  <tbody>\n",
       "    <tr>\n",
       "      <th>0</th>\n",
       "      <td>1</td>\n",
       "      <td>2020-09-20</td>\n",
       "      <td>fc-schalke-04-u19</td>\n",
       "      <td>1-fc-koln-u19</td>\n",
       "      <td>1:0</td>\n",
       "      <td>0</td>\n",
       "      <td>0</td>\n",
       "      <td>0</td>\n",
       "      <td>0</td>\n",
       "      <td>58'</td>\n",
       "      <td>...</td>\n",
       "      <td>0</td>\n",
       "      <td>0</td>\n",
       "      <td>64'</td>\n",
       "      <td>64</td>\n",
       "      <td>NaN</td>\n",
       "      <td>europa</td>\n",
       "      <td>L1</td>\n",
       "      <td>AJ2</td>\n",
       "      <td>1-fc-koln</td>\n",
       "      <td>jens-castrop</td>\n",
       "    </tr>\n",
       "    <tr>\n",
       "      <th>1</th>\n",
       "      <td>4</td>\n",
       "      <td>2020-10-23</td>\n",
       "      <td>1-fc-koln-u19</td>\n",
       "      <td>bayer-04-leverkusen-u19</td>\n",
       "      <td>5:0</td>\n",
       "      <td>0</td>\n",
       "      <td>0</td>\n",
       "      <td>0</td>\n",
       "      <td>0</td>\n",
       "      <td>65'</td>\n",
       "      <td>...</td>\n",
       "      <td>0</td>\n",
       "      <td>0</td>\n",
       "      <td>74'</td>\n",
       "      <td>74</td>\n",
       "      <td>NaN</td>\n",
       "      <td>europa</td>\n",
       "      <td>L1</td>\n",
       "      <td>AJ2</td>\n",
       "      <td>1-fc-koln</td>\n",
       "      <td>jens-castrop</td>\n",
       "    </tr>\n",
       "    <tr>\n",
       "      <th>2</th>\n",
       "      <td>First Round</td>\n",
       "      <td>2020-10-03</td>\n",
       "      <td>bayer-04-leverkusen-u19</td>\n",
       "      <td>1-fc-koln-u19</td>\n",
       "      <td>0:4</td>\n",
       "      <td>RW</td>\n",
       "      <td>0</td>\n",
       "      <td>0</td>\n",
       "      <td>0</td>\n",
       "      <td>0</td>\n",
       "      <td>...</td>\n",
       "      <td>0</td>\n",
       "      <td>0</td>\n",
       "      <td>0</td>\n",
       "      <td>90</td>\n",
       "      <td>NaN</td>\n",
       "      <td>europa</td>\n",
       "      <td>L1</td>\n",
       "      <td>DFBJ</td>\n",
       "      <td>1-fc-koln</td>\n",
       "      <td>jens-castrop</td>\n",
       "    </tr>\n",
       "    <tr>\n",
       "      <th>3</th>\n",
       "      <td>1</td>\n",
       "      <td>2020-09-19</td>\n",
       "      <td>1-fc-koln</td>\n",
       "      <td>tsg-1899-hoffenheim</td>\n",
       "      <td>2:3</td>\n",
       "      <td>RB</td>\n",
       "      <td>0</td>\n",
       "      <td>0</td>\n",
       "      <td>0</td>\n",
       "      <td>0</td>\n",
       "      <td>...</td>\n",
       "      <td>0</td>\n",
       "      <td>46'</td>\n",
       "      <td>0</td>\n",
       "      <td>45</td>\n",
       "      <td>3.8</td>\n",
       "      <td>europa</td>\n",
       "      <td>L1</td>\n",
       "      <td>L1</td>\n",
       "      <td>1-fc-koln</td>\n",
       "      <td>kingsley-ehizibue</td>\n",
       "    </tr>\n",
       "    <tr>\n",
       "      <th>4</th>\n",
       "      <td>2</td>\n",
       "      <td>2020-09-26</td>\n",
       "      <td>arminia-bielefeld</td>\n",
       "      <td>1-fc-koln</td>\n",
       "      <td>1:0</td>\n",
       "      <td>RB</td>\n",
       "      <td>0</td>\n",
       "      <td>0</td>\n",
       "      <td>0</td>\n",
       "      <td>0</td>\n",
       "      <td>...</td>\n",
       "      <td>0</td>\n",
       "      <td>0</td>\n",
       "      <td>0</td>\n",
       "      <td>90</td>\n",
       "      <td>3.6</td>\n",
       "      <td>europa</td>\n",
       "      <td>L1</td>\n",
       "      <td>L1</td>\n",
       "      <td>1-fc-koln</td>\n",
       "      <td>kingsley-ehizibue</td>\n",
       "    </tr>\n",
       "  </tbody>\n",
       "</table>\n",
       "<p>5 rows × 21 columns</p>\n",
       "</div>"
      ],
      "text/plain": [
       "      matchday        date                home_team                away_team  \\\n",
       "0            1  2020-09-20        fc-schalke-04-u19            1-fc-koln-u19   \n",
       "1            4  2020-10-23            1-fc-koln-u19  bayer-04-leverkusen-u19   \n",
       "2  First Round  2020-10-03  bayer-04-leverkusen-u19            1-fc-koln-u19   \n",
       "3            1  2020-09-19                1-fc-koln      tsg-1899-hoffenheim   \n",
       "4            2  2020-09-26        arminia-bielefeld                1-fc-koln   \n",
       "\n",
       "  result pos goals assists own_goals yellow_cards  ... red_cards  \\\n",
       "0    1:0   0     0       0         0          58'  ...         0   \n",
       "1    5:0   0     0       0         0          65'  ...         0   \n",
       "2    0:4  RW     0       0         0            0  ...         0   \n",
       "3    2:3  RB     0       0         0            0  ...         0   \n",
       "4    1:0  RB     0       0         0            0  ...         0   \n",
       "\n",
       "  substitutions_on substitutions_off minutes_played  \\\n",
       "0                0               64'             64   \n",
       "1                0               74'             74   \n",
       "2                0                 0             90   \n",
       "3              46'                 0             45   \n",
       "4                0                 0             90   \n",
       "\n",
       "   transfermarkt_player_rating confederation domestic_competition  \\\n",
       "0                          NaN        europa                   L1   \n",
       "1                          NaN        europa                   L1   \n",
       "2                          NaN        europa                   L1   \n",
       "3                          3.8        europa                   L1   \n",
       "4                          3.6        europa                   L1   \n",
       "\n",
       "  stats_competition current_team        player_name  \n",
       "0               AJ2    1-fc-koln       jens-castrop  \n",
       "1               AJ2    1-fc-koln       jens-castrop  \n",
       "2              DFBJ    1-fc-koln       jens-castrop  \n",
       "3                L1    1-fc-koln  kingsley-ehizibue  \n",
       "4                L1    1-fc-koln  kingsley-ehizibue  \n",
       "\n",
       "[5 rows x 21 columns]"
      ]
     },
     "execution_count": 5,
     "metadata": {},
     "output_type": "execute_result"
    }
   ],
   "source": [
    "raw\n",
    "raw_flat = flatten(raw, ['stats'])\n",
    "raw_flat.head()"
   ]
  },
  {
   "cell_type": "markdown",
   "metadata": {},
   "source": [
    "### Rename\n",
    "Modify the names of the input columns to make them consistent with a naming convention"
   ]
  },
  {
   "cell_type": "code",
   "execution_count": 6,
   "metadata": {},
   "outputs": [
    {
     "data": {
      "text/plain": [
       "Index(['round', 'date', 'home_club_name', 'away_club_name', 'result',\n",
       "       'player_position', 'goals', 'assists', 'own_goals', 'yellow_cards',\n",
       "       'second_yellow_cards', 'red_cards', 'substitutions_on',\n",
       "       'substitutions_off', 'minutes_played', 'transfermarkt_player_rating',\n",
       "       'club_confederation', 'club_domestic_competition', 'competition',\n",
       "       'player_club_name', 'player_name'],\n",
       "      dtype='object')"
      ]
     },
     "execution_count": 6,
     "metadata": {},
     "output_type": "execute_result"
    }
   ],
   "source": [
    "mappings = {\n",
    "    'matchday': 'round',\n",
    "    'home_team': 'home_club_name',\n",
    "    'away_team': 'away_club_name',\n",
    "    'current_team': 'player_club_name',\n",
    "    'pos': 'player_position',\n",
    "    'confederation': 'club_confederation',\n",
    "    'domestic_competition': 'club_domestic_competition',\n",
    "    'stats_competition': 'competition'\n",
    "}\n",
    "raw_flat\n",
    "with_renamed_columns = renames(raw_flat, mappings)\n",
    "with_renamed_columns.columns"
   ]
  },
  {
   "cell_type": "markdown",
   "metadata": {},
   "source": [
    "### Update\n",
    "- [x] Convert `goals`, `assists`, `own_goals` and `date` to the appropriate types\n",
    "- [x] Revamp `yellow_cards` and `red_cards`. `second_yellows` column is not needed\n",
    "- [ ] Club name prettifying. _FC Watford_ instead of _fc-watford_\n",
    "- [ ] Player name prettifying. _Adam Masina_ instead of _adam-masina_\n",
    "- [x] Use longer names for `position` instead of the chryptic 'LB', etc. (use 'filter by position' [here](https://www.transfermarkt.co.uk/statistik/topscorer) to get the mappings)"
   ]
  },
  {
   "cell_type": "code",
   "execution_count": 7,
   "metadata": {},
   "outputs": [],
   "source": [
    "with_improved_columns = improve_columns(with_renamed_columns)"
   ]
  },
  {
   "cell_type": "markdown",
   "metadata": {},
   "source": [
    "### Create\n",
    "- [x] Add surrogate keys `game_id`, `player_id`, `appearance_id`, `home_club_id`, `away_club_id`\n",
    "- [x] Split `result` into `home_club_goals` and `away_club_goals`\n",
    "- [x] Approximate appearance `season`"
   ]
  },
  {
   "cell_type": "code",
   "execution_count": 8,
   "metadata": {},
   "outputs": [],
   "source": [
    "\n",
    "with_new_columns = add_new_columns(with_improved_columns)"
   ]
  },
  {
   "cell_type": "markdown",
   "metadata": {},
   "source": [
    "### Filter\n",
    "* Only season 2020 is complete on the current file, so we remove the rest\n",
    "* To reduce the scope of this version of the data prep scritp, select only appearances from domestic competitions\n"
   ]
  },
  {
   "cell_type": "code",
   "execution_count": 9,
   "metadata": {},
   "outputs": [],
   "source": [
    "with_filtered_appearances = filter_appearances(with_new_columns)"
   ]
  },
  {
   "cell_type": "markdown",
   "metadata": {},
   "source": [
    "## Validate\n",
    "Validate that the output dataframe contains consistent data. Two types of checks are performed.\n",
    "\n",
    "### Value checks\n",
    "- [x] Fields `red_cards`, `yellow_cards`, `own_goals`, `assists`, `goals` and `minutes_played` contain values within an expected range\n",
    "- [x] Rows are unique on `player_id` + `date`\n",
    "- [ ] `position` field is either one of the long form player positions from Transfermarkt\n",
    "\n",
    "### Completeness checks\n",
    "- [x] Number of teams per domestic competition must be exactly 20\n",
    "- [ ] Each club must play 38 games per season on the domestic competition\n",
    "- [ ] On each match, both clubs should have at least 11 appearances\n",
    "- [ ] Similarly, each club must have at least 11 appearances per game\n"
   ]
  },
  {
   "cell_type": "code",
   "execution_count": 10,
   "metadata": {},
   "outputs": [],
   "source": [
    "validations = [\n",
    "    'assert_df_not_empty',\n",
    "    'assert_minutes_played_gt_90',\n",
    "    'assert_goals_in_range',\n",
    "    'assert_assists_in_range',\n",
    "    'assert_own_goals_in_range',\n",
    "    'assert_yellow_cards_range',\n",
    "    'assert_red_cards_range',\n",
    "    'assert_unique_on_player_and_date',\n",
    "    'assert_clubs_per_domestic_competition',\n",
    "    # 'assert_games_per_season_per_club',\n",
    "    'assert_appearances_per_match',\n",
    "    # the next one catches wrongly tagged player appearance teams due to a transference in the middle if the season\n",
    "    # uncomment after https://github.com/dcaribou/player-scores/issues/8 is resolved\n",
    "    # 'assert_appearances_per_club_per_game',\n",
    "    'assert_appearances_freshness_is_less_than_one_week',\n",
    "    'assert_goals_ne_assists',\n",
    "    'assert_goals_ne_own_goals',\n",
    "    'assert_yellow_cards_not_constant',\n",
    "    'assert_red_cards_not_constant'\n",
    "]\n",
    "\n",
    "failed_validations = validate(with_filtered_appearances, validations)\n",
    "if failed_validations > 0:\n",
    "    raise Exception(f\"{failed_validations} validations did not pass\")"
   ]
  },
  {
   "cell_type": "markdown",
   "metadata": {},
   "source": [
    "## Save"
   ]
  },
  {
   "cell_type": "code",
   "execution_count": 11,
   "metadata": {},
   "outputs": [],
   "source": [
    "with_filtered_appearances.to_csv(\n",
    "  prep_file,\n",
    "  index=False\n",
    ")"
   ]
  }
 ],
 "metadata": {
  "celltoolbar": "Tags",
  "kernelspec": {
   "display_name": "Python (player-scores)",
   "language": "python",
   "name": "player-scores"
  },
  "language_info": {
   "codemirror_mode": {
    "name": "ipython",
    "version": 3
   },
   "file_extension": ".py",
   "mimetype": "text/x-python",
   "name": "python",
   "nbconvert_exporter": "python",
   "pygments_lexer": "ipython3",
   "version": "3.8.5"
  }
 },
 "nbformat": 4,
 "nbformat_minor": 2
}
